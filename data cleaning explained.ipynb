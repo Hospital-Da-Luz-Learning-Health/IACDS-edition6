{
 "cells": [
  {
   "cell_type": "markdown",
   "metadata": {},
   "source": [
    "# Data cleaning\n",
    "\n",
    "This notebook is optional and just explains how we arrived to the preprocessing steps to clean the data that are implemented in the `preprocess_data` function in the file `utils.py`"
   ]
  },
  {
   "cell_type": "markdown",
   "metadata": {},
   "source": [
    "# Imports"
   ]
  },
  {
   "cell_type": "code",
   "execution_count": null,
   "metadata": {},
   "outputs": [],
   "source": [
    "# https://stackoverflow.com/questions/36786722/how-to-display-full-output-in-jupyter-not-only-last-result\n",
    "from IPython.core.interactiveshell import InteractiveShell\n",
    "InteractiveShell.ast_node_interactivity = \"all\"\n",
    "\n",
    "# Imports\n",
    "import pandas as pd\n",
    "import numpy as np"
   ]
  },
  {
   "cell_type": "markdown",
   "metadata": {},
   "source": [
    "# **1. Load Data**"
   ]
  },
  {
   "cell_type": "code",
   "execution_count": null,
   "metadata": {},
   "outputs": [],
   "source": [
    "data_source = \"https://archive.ics.uci.edu/ml/machine-learning-databases/breast-cancer-wisconsin/breast-cancer-wisconsin.data\"\n",
    "data = pd.read_csv(data_source, header=None)\n",
    "data"
   ]
  },
  {
   "cell_type": "markdown",
   "metadata": {},
   "source": [
    "# Dataset: **Breast Cancer Wisconsin (Diagnostic)**\n",
    "\n",
    "Data source [here](https://archive.ics.uci.edu/ml/machine-learning-databases/breast-cancer-wisconsin/breast-cancer-wisconsin.data) and documentation [here](https://archive.ics.uci.edu/ml/machine-learning-databases/breast-cancer-wisconsin/breast-cancer-wisconsin.names)\n",
    "\n",
    "Data summary:\n",
    "```\n",
    " Sample code number          : Id number\n",
    " Clump Thickness             : 1–10\n",
    " Uniformity of Cell Size     : 1–10\n",
    " Uniformity of Cell Shape    : 1–10\n",
    " Marginal Adhesion           : 1–10\n",
    " Single Epithelial Cell Size : 1–10\n",
    " Bare Nuclei                 : 1–10\n",
    " Bland Chromatin             : 1–10\n",
    " Normal Nucleoli             : 1–10\n",
    " Mitoses                     : 1–10\n",
    " Class                       : 2 for benign, 4 for malignant\n",
    "```\n",
    "\n"
   ]
  },
  {
   "cell_type": "markdown",
   "metadata": {},
   "source": [
    "Much better!"
   ]
  },
  {
   "cell_type": "markdown",
   "metadata": {},
   "source": [
    "are there any missing values?"
   ]
  },
  {
   "cell_type": "code",
   "execution_count": null,
   "metadata": {},
   "outputs": [],
   "source": [
    "data.isna().sum()"
   ]
  },
  {
   "cell_type": "markdown",
   "metadata": {},
   "source": [
    "No missing information, nice!\n",
    "\n",
    "What are the data types of our data?\n",
    "\n"
   ]
  },
  {
   "cell_type": "code",
   "execution_count": null,
   "metadata": {},
   "outputs": [],
   "source": [
    "data.dtypes"
   ]
  },
  {
   "cell_type": "markdown",
   "metadata": {},
   "source": [
    "We expect all columns to be numbers, which most are (`int64` means the computer stores the values of this column as numbers that occupy each 64 bits in memory), but for some reason the values of the column `Bare Nucleoli` are stored as text - which wouldn't make sense. Let's see what could be wrong here:"
   ]
  },
  {
   "cell_type": "code",
   "execution_count": null,
   "metadata": {},
   "outputs": [],
   "source": [
    "data['Bare Nuclei'].unique()"
   ]
  },
  {
   "cell_type": "markdown",
   "metadata": {},
   "source": [
    "Looking at the unique values of this column, we realize at least one observation contains '?'. That is forcing python to store everything as string because sometimes the value is the string '?'. What we want to have is store everything as number and give a special value to '?' which is `Nan` meaning to python that these are null values"
   ]
  },
  {
   "cell_type": "code",
   "execution_count": null,
   "metadata": {},
   "outputs": [],
   "source": [
    "positions_with_interrogation_mark = data['Bare Nuclei'] == '?'\n",
    "data.loc[positions_with_interrogation_mark,'Bare Nuclei'] = np.nan\n",
    "data['Bare Nuclei'] = data['Bare Nuclei'].astype(float) # floats are numbers in python"
   ]
  },
  {
   "cell_type": "markdown",
   "metadata": {},
   "source": [
    "now we need to do something with the nans. we can either:\n",
    "1. Fill in their values with something\n",
    "2. Remove these observations because we have no values for this column\n",
    "\n",
    "\n",
    "Let's fill in the values with the average of the observations so that we can keep these datapoints in our data, giving our ML models more examples to learn from. Even though these observations will be noisy in this feature, it may still help the model learn more patterns between the other features and the target"
   ]
  },
  {
   "cell_type": "code",
   "execution_count": null,
   "metadata": {},
   "outputs": [],
   "source": [
    "average_value = data['Bare Nuclei'].mean()\n",
    "data['Bare Nuclei'] = data['Bare Nuclei'].fillna(average_value) # fill nan values with the average value of Bare Nuclei from the whole dataset"
   ]
  },
  {
   "cell_type": "markdown",
   "metadata": {},
   "source": [
    "Now we confirm if the data types make sense and if we still have nans"
   ]
  },
  {
   "cell_type": "code",
   "execution_count": null,
   "metadata": {},
   "outputs": [],
   "source": [
    "data.dtypes"
   ]
  },
  {
   "cell_type": "code",
   "execution_count": null,
   "metadata": {},
   "outputs": [],
   "source": [
    "data.isna().sum()"
   ]
  },
  {
   "cell_type": "markdown",
   "metadata": {},
   "source": [
    "All good!"
   ]
  },
  {
   "cell_type": "markdown",
   "metadata": {},
   "source": [
    "The last problem we observe is that our target column, which contains the values we want to predict, has values either 2 or 4:"
   ]
  },
  {
   "cell_type": "code",
   "execution_count": null,
   "metadata": {},
   "outputs": [],
   "source": [
    "data['Class'].unique()"
   ]
  },
  {
   "cell_type": "markdown",
   "metadata": {},
   "source": [
    "In machine learning we need for the binary classification target to be either 0 or 1. So we will map the values of `2` to 0 because they mean **benign**, and the values of `4` to 1 because they mean **malignant** and that's the class we are interested in predicting."
   ]
  },
  {
   "cell_type": "code",
   "execution_count": null,
   "metadata": {},
   "outputs": [],
   "source": [
    "data[\"Class\"] = data[\"Class\"].replace({2:0, 4:1})"
   ]
  },
  {
   "cell_type": "code",
   "execution_count": null,
   "metadata": {},
   "outputs": [],
   "source": [
    "data"
   ]
  },
  {
   "cell_type": "markdown",
   "metadata": {},
   "source": [
    "And we are all set!"
   ]
  }
 ],
 "metadata": {
  "kernelspec": {
   "display_name": "tecnico",
   "language": "python",
   "name": "tecnico"
  },
  "language_info": {
   "codemirror_mode": {
    "name": "ipython",
    "version": 3
   },
   "file_extension": ".py",
   "mimetype": "text/x-python",
   "name": "python",
   "nbconvert_exporter": "python",
   "pygments_lexer": "ipython3",
   "version": "3.10.9"
  }
 },
 "nbformat": 4,
 "nbformat_minor": 2
}
