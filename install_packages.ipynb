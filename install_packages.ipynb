{
 "cells": [
  {
   "cell_type": "markdown",
   "metadata": {},
   "source": [
    "# Install packages "
   ]
  },
  {
   "cell_type": "code",
   "execution_count": 4,
   "metadata": {},
   "outputs": [
    {
     "name": "stdout",
     "output_type": "stream",
     "text": [
      "Collecting matplotlib (from -r requirements.txt (line 1))\n",
      "  Using cached matplotlib-3.9.0-cp310-cp310-manylinux_2_17_x86_64.manylinux2014_x86_64.whl (8.3 MB)\n",
      "Collecting seaborn (from -r requirements.txt (line 2))\n",
      "  Downloading seaborn-0.13.2-py3-none-any.whl (294 kB)\n",
      "\u001b[2K     \u001b[90m━━━━━━━━━━━━━━━━━━━━━━━━━━━━━━━━━━━━━━━━\u001b[0m \u001b[32m294.9/294.9 kB\u001b[0m \u001b[31m7.1 MB/s\u001b[0m eta \u001b[36m0:00:00\u001b[0ma \u001b[36m0:00:01\u001b[0m\n",
      "\u001b[?25hCollecting eli5 (from -r requirements.txt (line 3))\n",
      "  Using cached eli5-0.13.0.tar.gz (216 kB)\n",
      "  Preparing metadata (setup.py) ... \u001b[?25ldone\n",
      "\u001b[?25hCollecting shap (from -r requirements.txt (line 4))\n",
      "  Downloading shap-0.45.1-cp310-cp310-manylinux_2_12_x86_64.manylinux2010_x86_64.manylinux_2_17_x86_64.manylinux2014_x86_64.whl (540 kB)\n",
      "\u001b[2K     \u001b[90m━━━━━━━━━━━━━━━━━━━━━━━━━━━━━━━━━━━━━━━━\u001b[0m \u001b[32m540.5/540.5 kB\u001b[0m \u001b[31m30.4 MB/s\u001b[0m eta \u001b[36m0:00:00\u001b[0m\n",
      "\u001b[?25hCollecting lime (from -r requirements.txt (line 5))\n",
      "  Using cached lime-0.2.0.1.tar.gz (275 kB)\n",
      "  Preparing metadata (setup.py) ... \u001b[?25ldone\n",
      "\u001b[?25hCollecting scikit-learn (from -r requirements.txt (line 6))\n",
      "  Using cached scikit_learn-1.5.0-cp310-cp310-manylinux_2_17_x86_64.manylinux2014_x86_64.whl (13.3 MB)\n",
      "Collecting pandas (from -r requirements.txt (line 7))\n",
      "  Using cached pandas-2.2.2-cp310-cp310-manylinux_2_17_x86_64.manylinux2014_x86_64.whl (13.0 MB)\n",
      "Requirement already satisfied: numpy in /home/azureuser/.cache/pypoetry/virtualenvs/azure-rPqF7Uio-py3.10/lib/python3.10/site-packages (from -r requirements.txt (line 8)) (1.26.4)\n",
      "Requirement already satisfied: contourpy>=1.0.1 in /home/azureuser/.cache/pypoetry/virtualenvs/azure-rPqF7Uio-py3.10/lib/python3.10/site-packages (from matplotlib->-r requirements.txt (line 1)) (1.2.1)\n",
      "Requirement already satisfied: cycler>=0.10 in /home/azureuser/.cache/pypoetry/virtualenvs/azure-rPqF7Uio-py3.10/lib/python3.10/site-packages (from matplotlib->-r requirements.txt (line 1)) (0.12.1)\n",
      "Requirement already satisfied: fonttools>=4.22.0 in /home/azureuser/.cache/pypoetry/virtualenvs/azure-rPqF7Uio-py3.10/lib/python3.10/site-packages (from matplotlib->-r requirements.txt (line 1)) (4.53.0)\n",
      "Requirement already satisfied: kiwisolver>=1.3.1 in /home/azureuser/.cache/pypoetry/virtualenvs/azure-rPqF7Uio-py3.10/lib/python3.10/site-packages (from matplotlib->-r requirements.txt (line 1)) (1.4.5)\n",
      "Requirement already satisfied: packaging>=20.0 in /home/azureuser/.cache/pypoetry/virtualenvs/azure-rPqF7Uio-py3.10/lib/python3.10/site-packages (from matplotlib->-r requirements.txt (line 1)) (23.0)\n",
      "Requirement already satisfied: pillow>=8 in /home/azureuser/.cache/pypoetry/virtualenvs/azure-rPqF7Uio-py3.10/lib/python3.10/site-packages (from matplotlib->-r requirements.txt (line 1)) (10.3.0)\n",
      "Requirement already satisfied: pyparsing>=2.3.1 in /home/azureuser/.cache/pypoetry/virtualenvs/azure-rPqF7Uio-py3.10/lib/python3.10/site-packages (from matplotlib->-r requirements.txt (line 1)) (3.1.2)\n",
      "Requirement already satisfied: python-dateutil>=2.7 in /home/azureuser/.cache/pypoetry/virtualenvs/azure-rPqF7Uio-py3.10/lib/python3.10/site-packages (from matplotlib->-r requirements.txt (line 1)) (2.8.2)\n",
      "Requirement already satisfied: attrs>17.1.0 in /home/azureuser/.cache/pypoetry/virtualenvs/azure-rPqF7Uio-py3.10/lib/python3.10/site-packages (from eli5->-r requirements.txt (line 3)) (23.1.0)\n",
      "Collecting jinja2>=3.0.0 (from eli5->-r requirements.txt (line 3))\n",
      "  Using cached jinja2-3.1.4-py3-none-any.whl (133 kB)\n",
      "Requirement already satisfied: scipy in /home/azureuser/.cache/pypoetry/virtualenvs/azure-rPqF7Uio-py3.10/lib/python3.10/site-packages (from eli5->-r requirements.txt (line 3)) (1.13.1)\n",
      "Requirement already satisfied: six in /home/azureuser/.cache/pypoetry/virtualenvs/azure-rPqF7Uio-py3.10/lib/python3.10/site-packages (from eli5->-r requirements.txt (line 3)) (1.16.0)\n",
      "Collecting graphviz (from eli5->-r requirements.txt (line 3))\n",
      "  Using cached graphviz-0.20.3-py3-none-any.whl (47 kB)\n",
      "Requirement already satisfied: tabulate>=0.7.7 in /home/azureuser/.cache/pypoetry/virtualenvs/azure-rPqF7Uio-py3.10/lib/python3.10/site-packages (from eli5->-r requirements.txt (line 3)) (0.9.0)\n",
      "Requirement already satisfied: tqdm>=4.27.0 in /home/azureuser/.cache/pypoetry/virtualenvs/azure-rPqF7Uio-py3.10/lib/python3.10/site-packages (from shap->-r requirements.txt (line 4)) (4.66.4)\n",
      "Collecting slicer==0.0.8 (from shap->-r requirements.txt (line 4))\n",
      "  Downloading slicer-0.0.8-py3-none-any.whl (15 kB)\n",
      "Collecting numba (from shap->-r requirements.txt (line 4))\n",
      "  Downloading numba-0.60.0-cp310-cp310-manylinux2014_x86_64.manylinux_2_17_x86_64.whl (3.7 MB)\n",
      "\u001b[2K     \u001b[90m━━━━━━━━━━━━━━━━━━━━━━━━━━━━━━━━━━━━━━━━\u001b[0m \u001b[32m3.7/3.7 MB\u001b[0m \u001b[31m62.6 MB/s\u001b[0m eta \u001b[36m0:00:00\u001b[0m:00:01\u001b[0m\n",
      "\u001b[?25hRequirement already satisfied: cloudpickle in /home/azureuser/.cache/pypoetry/virtualenvs/azure-rPqF7Uio-py3.10/lib/python3.10/site-packages (from shap->-r requirements.txt (line 4)) (2.2.1)\n",
      "Collecting scikit-image>=0.12 (from lime->-r requirements.txt (line 5))\n",
      "  Downloading scikit_image-0.24.0-cp310-cp310-manylinux_2_17_x86_64.manylinux2014_x86_64.whl (14.9 MB)\n",
      "\u001b[2K     \u001b[90m━━━━━━━━━━━━━━━━━━━━━━━━━━━━━━━━━━━━━━━━\u001b[0m \u001b[32m14.9/14.9 MB\u001b[0m \u001b[31m63.3 MB/s\u001b[0m eta \u001b[36m0:00:00\u001b[0m:00:01\u001b[0m00:01\u001b[0m\n",
      "\u001b[?25hRequirement already satisfied: joblib>=1.2.0 in /home/azureuser/.cache/pypoetry/virtualenvs/azure-rPqF7Uio-py3.10/lib/python3.10/site-packages (from scikit-learn->-r requirements.txt (line 6)) (1.4.2)\n",
      "Requirement already satisfied: threadpoolctl>=3.1.0 in /home/azureuser/.cache/pypoetry/virtualenvs/azure-rPqF7Uio-py3.10/lib/python3.10/site-packages (from scikit-learn->-r requirements.txt (line 6)) (3.5.0)\n",
      "Requirement already satisfied: pytz>=2020.1 in /home/azureuser/.cache/pypoetry/virtualenvs/azure-rPqF7Uio-py3.10/lib/python3.10/site-packages (from pandas->-r requirements.txt (line 7)) (2023.3)\n",
      "Requirement already satisfied: tzdata>=2022.7 in /home/azureuser/.cache/pypoetry/virtualenvs/azure-rPqF7Uio-py3.10/lib/python3.10/site-packages (from pandas->-r requirements.txt (line 7)) (2024.1)\n",
      "Collecting MarkupSafe>=2.0 (from jinja2>=3.0.0->eli5->-r requirements.txt (line 3))\n",
      "  Downloading MarkupSafe-2.1.5-cp310-cp310-manylinux_2_17_x86_64.manylinux2014_x86_64.whl (25 kB)\n",
      "Collecting networkx>=2.8 (from scikit-image>=0.12->lime->-r requirements.txt (line 5))\n",
      "  Downloading networkx-3.3-py3-none-any.whl (1.7 MB)\n",
      "\u001b[2K     \u001b[90m━━━━━━━━━━━━━━━━━━━━━━━━━━━━━━━━━━━━━━━━\u001b[0m \u001b[32m1.7/1.7 MB\u001b[0m \u001b[31m62.3 MB/s\u001b[0m eta \u001b[36m0:00:00\u001b[0m\n",
      "\u001b[?25hCollecting imageio>=2.33 (from scikit-image>=0.12->lime->-r requirements.txt (line 5))\n",
      "  Downloading imageio-2.34.1-py3-none-any.whl (313 kB)\n",
      "\u001b[2K     \u001b[90m━━━━━━━━━━━━━━━━━━━━━━━━━━━━━━━━━━━━━━━━\u001b[0m \u001b[32m313.5/313.5 kB\u001b[0m \u001b[31m26.1 MB/s\u001b[0m eta \u001b[36m0:00:00\u001b[0m\n",
      "\u001b[?25hCollecting tifffile>=2022.8.12 (from scikit-image>=0.12->lime->-r requirements.txt (line 5))\n",
      "  Downloading tifffile-2024.6.18-py3-none-any.whl (226 kB)\n",
      "\u001b[2K     \u001b[90m━━━━━━━━━━━━━━━━━━━━━━━━━━━━━━━━━━━━━━━━\u001b[0m \u001b[32m226.0/226.0 kB\u001b[0m \u001b[31m5.2 MB/s\u001b[0m eta \u001b[36m0:00:00\u001b[0m:00:01\u001b[0m\n",
      "\u001b[?25hCollecting lazy-loader>=0.4 (from scikit-image>=0.12->lime->-r requirements.txt (line 5))\n",
      "  Downloading lazy_loader-0.4-py3-none-any.whl (12 kB)\n",
      "Collecting llvmlite<0.44,>=0.43.0dev0 (from numba->shap->-r requirements.txt (line 4))\n",
      "  Downloading llvmlite-0.43.0-cp310-cp310-manylinux_2_17_x86_64.manylinux2014_x86_64.whl (43.9 MB)\n",
      "\u001b[2K     \u001b[90m━━━━━━━━━━━━━━━━━━━━━━━━━━━━━━━━━━━━━━━━\u001b[0m \u001b[32m43.9/43.9 MB\u001b[0m \u001b[31m25.5 MB/s\u001b[0m eta \u001b[36m0:00:00\u001b[0m:00:01\u001b[0m00:01\u001b[0m\n",
      "\u001b[?25hBuilding wheels for collected packages: eli5, lime\n",
      "  Building wheel for eli5 (setup.py) ... \u001b[?25ldone\n",
      "\u001b[?25h  Created wheel for eli5: filename=eli5-0.13.0-py2.py3-none-any.whl size=107730 sha256=d212ea7805df90d9598d3f35ebf7fda938ee24d348a41793c37341c65651a824\n",
      "  Stored in directory: /home/azureuser/.cache/pip/wheels/b8/58/ef/2cf4c306898c2338d51540e0922c8e0d6028e07007085c0004\n",
      "  Building wheel for lime (setup.py) ... \u001b[?25ldone\n",
      "\u001b[?25h  Created wheel for lime: filename=lime-0.2.0.1-py3-none-any.whl size=283839 sha256=71dc694fa14dc86a728d0619ddea08b4f64d6fd9e7361b2e410eec9032789004\n",
      "  Stored in directory: /home/azureuser/.cache/pip/wheels/fd/a2/af/9ac0a1a85a27f314a06b39e1f492bee1547d52549a4606ed89\n",
      "Successfully built eli5 lime\n",
      "Installing collected packages: tifffile, slicer, networkx, MarkupSafe, llvmlite, lazy-loader, imageio, graphviz, scikit-learn, scikit-image, pandas, numba, matplotlib, jinja2, shap, seaborn, lime, eli5\n",
      "Successfully installed MarkupSafe-2.1.5 eli5-0.13.0 graphviz-0.20.3 imageio-2.34.1 jinja2-3.1.4 lazy-loader-0.4 lime-0.2.0.1 llvmlite-0.43.0 matplotlib-3.9.0 networkx-3.3 numba-0.60.0 pandas-2.2.2 scikit-image-0.24.0 scikit-learn-1.5.0 seaborn-0.13.2 shap-0.45.1 slicer-0.0.8 tifffile-2024.6.18\n",
      "\n",
      "\u001b[1m[\u001b[0m\u001b[34;49mnotice\u001b[0m\u001b[1;39;49m]\u001b[0m\u001b[39;49m A new release of pip is available: \u001b[0m\u001b[31;49m23.1.2\u001b[0m\u001b[39;49m -> \u001b[0m\u001b[32;49m24.0\u001b[0m\n",
      "\u001b[1m[\u001b[0m\u001b[34;49mnotice\u001b[0m\u001b[1;39;49m]\u001b[0m\u001b[39;49m To update, run: \u001b[0m\u001b[32;49mpip3.10 install --upgrade pip\u001b[0m\n",
      "Note: you may need to restart the kernel to use updated packages.\n"
     ]
    }
   ],
   "source": [
    "%pip install -r requirements.txt"
   ]
  }
 ],
 "metadata": {
  "kernelspec": {
   "display_name": "tecnico",
   "language": "python",
   "name": "tecnico"
  },
  "language_info": {
   "codemirror_mode": {
    "name": "ipython",
    "version": 3
   },
   "file_extension": ".py",
   "mimetype": "text/x-python",
   "name": "python",
   "nbconvert_exporter": "python",
   "pygments_lexer": "ipython3",
   "version": "3.10.9"
  }
 },
 "nbformat": 4,
 "nbformat_minor": 2
}
